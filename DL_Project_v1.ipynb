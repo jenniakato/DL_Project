{
 "cells": [
  {
   "cell_type": "markdown",
   "id": "c863ccad",
   "metadata": {},
   "source": [
    "## Importations les bibliothèques "
   ]
  },
  {
   "cell_type": "code",
   "execution_count": 1,
   "id": "43731185",
   "metadata": {},
   "outputs": [
    {
     "data": {
      "text/plain": [
       "['Requirement already satisfied: charset_normalizer in c:\\\\users\\\\j_aka\\\\anaconda3\\\\envs\\\\statistique\\\\lib\\\\site-packages (3.3.2)']"
      ]
     },
     "execution_count": 1,
     "metadata": {},
     "output_type": "execute_result"
    }
   ],
   "source": [
    "!!pip install charset_normalizer"
   ]
  },
  {
   "cell_type": "code",
   "execution_count": 2,
   "id": "c277996b",
   "metadata": {},
   "outputs": [
    {
     "name": "stderr",
     "output_type": "stream",
     "text": [
      "c:\\Users\\j_aka\\anaconda3\\envs\\statistique\\Lib\\site-packages\\requests\\__init__.py:86: RequestsDependencyWarning: Unable to find acceptable character detection dependency (chardet or charset_normalizer).\n",
      "  warnings.warn(\n"
     ]
    }
   ],
   "source": [
    "import tensorflow as tf\n",
    "import matplotlib.pyplot as plt\n"
   ]
  },
  {
   "cell_type": "markdown",
   "id": "47f5c57d",
   "metadata": {},
   "source": [
    "## définitions des chemins "
   ]
  },
  {
   "cell_type": "code",
   "execution_count": 3,
   "id": "0f3bd14a",
   "metadata": {},
   "outputs": [],
   "source": [
    "train_ch = r\"C:\\Users\\j_aka\\Desktop\\DL Project\\seg_train\\seg_train\"\n",
    "#val_ch = r\"C:\\Users\\j_aka\\Desktop\\DL Project\\seg_pred\\seg_pred\" \n",
    "test_ch =r\"C:\\Users\\j_aka\\Desktop\\DL Project\\seg_test\\seg_test\""
   ]
  },
  {
   "cell_type": "markdown",
   "id": "19b06a42",
   "metadata": {},
   "source": [
    "### Définition de paramètres"
   ]
  },
  {
   "cell_type": "code",
   "execution_count": 4,
   "id": "e094eec7",
   "metadata": {},
   "outputs": [],
   "source": [
    "img_size = (150,150)\n",
    "batch_size = 32"
   ]
  },
  {
   "cell_type": "markdown",
   "id": "fe5e4e73",
   "metadata": {},
   "source": [
    "## Charger les données"
   ]
  },
  {
   "cell_type": "markdown",
   "id": "d07f75dc",
   "metadata": {},
   "source": [
    "### Train et Val"
   ]
  },
  {
   "cell_type": "code",
   "execution_count": 9,
   "id": "5abf6502",
   "metadata": {},
   "outputs": [
    {
     "name": "stdout",
     "output_type": "stream",
     "text": [
      "Found 14034 files belonging to 6 classes.\n",
      "Using 11228 files for training.\n",
      "Found 14034 files belonging to 6 classes.\n",
      "Using 2806 files for validation.\n"
     ]
    }
   ],
   "source": [
    "train_ds = tf.keras.utils.image_dataset_from_directory(\n",
    "    train_ch,\n",
    "    validation_split=0.2,\n",
    "    subset=\"training\",\n",
    "    image_size=img_size,\n",
    "    batch_size=batch_size,\n",
    "    seed=125,\n",
    "    #shuffle=True\n",
    "    )\n",
    "train_ds=train_ds.cache().shuffle(2000).prefetch(buffer_size=tf.data.AUTOTUNE)\n",
    "\n",
    "val_ds = tf.keras.utils.image_dataset_from_directory(\n",
    "    train_ch,\n",
    "    validation_split=0.2,\n",
    "    subset=\"validation\",\n",
    "    image_size=img_size,\n",
    "    batch_size=batch_size,\n",
    "    seed=125,\n",
    "    #shuffle=False\n",
    "    )\n",
    "val_ds=val_ds.cache().prefetch(buffer_size=tf.data.AUTOTUNE)\n"
   ]
  },
  {
   "cell_type": "markdown",
   "id": "85060766",
   "metadata": {},
   "source": [
    "### Test"
   ]
  },
  {
   "cell_type": "code",
   "execution_count": 10,
   "id": "34fd8c6f",
   "metadata": {},
   "outputs": [
    {
     "name": "stdout",
     "output_type": "stream",
     "text": [
      "Found 3000 files belonging to 6 classes.\n"
     ]
    }
   ],
   "source": [
    "test_ds = tf.keras.utils.image_dataset_from_directory(\n",
    "    test_ch,\n",
    "    image_size=img_size,\n",
    "    batch_size=batch_size,\n",
    "    shuffle=False \n",
    ")\n",
    "test_ds  = test_ds.cache().prefetch(buffer_size=tf.data.AUTOTUNE)"
   ]
  },
  {
   "cell_type": "markdown",
   "id": "6c3595c6",
   "metadata": {},
   "source": [
    "## Normalisation "
   ]
  },
  {
   "cell_type": "code",
   "execution_count": 17,
   "id": "d4b5d99a",
   "metadata": {},
   "outputs": [],
   "source": [
    "normalisation_layer = tf.keras.layers.Rescaling(1./255)\n",
    "train_ds=train_ds.map(lambda x,y:(normalisation_layer(x),y))\n",
    "val_ds=val_ds.map(lambda x,y:(normalisation_layer(x),y))\n",
    "test_ds=test_ds.map(lambda x,y:(normalisation_layer(x),y))"
   ]
  },
  {
   "cell_type": "markdown",
   "id": "73a4fe10",
   "metadata": {},
   "source": [
    "## Augmentation de la donnée "
   ]
  },
  {
   "cell_type": "code",
   "execution_count": 20,
   "id": "35651c3d",
   "metadata": {},
   "outputs": [],
   "source": [
    "data_augmentation = tf.keras.Sequential([\n",
    "    tf.keras.layers.RandomFlip(\"horizontal\"),        \n",
    "    tf.keras.layers.RandomRotation(0.1),            \n",
    "    tf.keras.layers.RandomZoom(0.1),                \n",
    "    tf.keras.layers.RandomContrast(0.2),             \n",
    "])\n"
   ]
  },
  {
   "cell_type": "markdown",
   "id": "255afd9f",
   "metadata": {},
   "source": [
    "### Visualisation "
   ]
  },
  {
   "cell_type": "code",
   "execution_count": 21,
   "id": "6dde1e96",
   "metadata": {},
   "outputs": [
    {
     "data": {
      "image/png": "[encoded data removed]",
      "text/plain": [
       "<Figure size 1000x1000 with 9 Axes>"
      ]
     },
     "metadata": {},
     "output_type": "display_data"
    }
   ],
   "source": [
    "for images, labels in train_ds.take(1):\n",
    "    plt.figure(figsize=(10, 10))\n",
    "    for i in range(9):\n",
    "        augmented_image = data_augmentation(images)[i].numpy()\n",
    "        plt.subplot(3, 3, i+1)\n",
    "        plt.imshow(augmented_image)\n",
    "        plt.axis(\"off\")\n",
    "    plt.show()"
   ]
  }
 ],
 "metadata": {
  "kernelspec": {
   "display_name": "statistique",
   "language": "python",
   "name": "python3"
  },
  "language_info": {
   "codemirror_mode": {
    "name": "ipython",
    "version": 3
   },
   "file_extension": ".py",
   "mimetype": "text/x-python",
   "name": "python",
   "nbconvert_exporter": "python",
   "pygments_lexer": "ipython3",
   "version": "3.12.11"
  }
 },
 "nbformat": 4,
 "nbformat_minor": 5
}
